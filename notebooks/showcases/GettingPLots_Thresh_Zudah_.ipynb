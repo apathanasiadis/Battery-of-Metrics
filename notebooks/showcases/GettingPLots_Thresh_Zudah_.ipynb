{
 "cells": [
  {
   "cell_type": "code",
   "execution_count": null,
   "metadata": {},
   "outputs": [],
   "source": [
    "%pylab inline"
   ]
  },
  {
   "cell_type": "code",
   "execution_count": null,
   "metadata": {},
   "outputs": [],
   "source": [
    "import os\n",
    "from pathlib import Path\n",
    "import itertools\n",
    "import pickle\n",
    "import seaborn as sns\n",
    "import jax\n",
    "import jax.numpy as np\n",
    "import numpy\n",
    "import scipy\n",
    "import seaborn as sns\n",
    "jax.config.update('jax_platform_name', 'cpu')\n",
    "os.environ['XLA_FLAGS'] = '--xla_force_host_platform_device_count=16'"
   ]
  },
  {
   "cell_type": "code",
   "execution_count": null,
   "metadata": {},
   "outputs": [],
   "source": [
    "from sklearn.cluster import MiniBatchKMeans\n",
    "seed = 42"
   ]
  },
  {
   "cell_type": "code",
   "execution_count": null,
   "metadata": {},
   "outputs": [],
   "source": [
    "from bomtemplate.bd_transformation import fc_phases_space, fc_space, activity_space\n",
    "from bomtemplate.into_states import clustering\n",
    "from bomtemplate.reliability_assessment import fingerprinting, predictive_power\n",
    "from bomtemplate import utility\n",
    "from bomtemplate import bd_preprocessing"
   ]
  },
  {
   "cell_type": "code",
   "execution_count": null,
   "metadata": {},
   "outputs": [],
   "source": [
    "cwd = os.getcwd()\n",
    "head = Path(cwd).parents[2]\n",
    "path_data = os.path.join(head, 'saved_data/')\n",
    "share_data = os.path.join(head, 'sharing/')"
   ]
  },
  {
   "cell_type": "code",
   "execution_count": null,
   "metadata": {},
   "outputs": [],
   "source": [
    "import utils"
   ]
  },
  {
   "cell_type": "code",
   "execution_count": null,
   "metadata": {},
   "outputs": [],
   "source": [
    "df = utils.pickle_sth(os.path.join(share_data, 'subjects_info_df.pkl'), option='load')"
   ]
  },
  {
   "cell_type": "code",
   "execution_count": null,
   "metadata": {},
   "outputs": [],
   "source": [
    "df"
   ]
  },
  {
   "cell_type": "code",
   "execution_count": null,
   "metadata": {},
   "outputs": [],
   "source": [
    "df.to_csv(os.path.join(share_data, 'subjects_info_df.csv'))"
   ]
  },
  {
   "cell_type": "code",
   "execution_count": null,
   "metadata": {},
   "outputs": [],
   "source": [
    "path_figures = os.path.join(head, 'figures/emp/pepr_April2024')\n",
    "path_figures"
   ]
  },
  {
   "cell_type": "code",
   "execution_count": null,
   "metadata": {},
   "outputs": [],
   "source": [
    "getdata = bd_preprocessing.Get_1000Brains_Data(path_data)\n",
    "output_dict = getdata.get_data(bins=False)\n",
    "output_dict.keys()"
   ]
  },
  {
   "cell_type": "code",
   "execution_count": null,
   "metadata": {},
   "outputs": [],
   "source": [
    "transient = output_dict['transient']\n",
    "data_3d = output_dict['data_3d'][:,transient:]\n",
    "n_participants, n_samples, n_nodes = data_3d.shape"
   ]
  },
  {
   "cell_type": "code",
   "execution_count": null,
   "metadata": {},
   "outputs": [],
   "source": [
    "lowcut = 0.01\n",
    "highcut = 0.08\n",
    "data_3d_filtered = numpy.zeros_like(data_3d)\n",
    "for p in range(n_participants):\n",
    "    data_3d_filtered [p] = bd_preprocessing.butter_bandpass_filter(data_3d[p], axis=0, lowcut=lowcut, highcut=highcut, fs=1, order=1)"
   ]
  },
  {
   "cell_type": "code",
   "execution_count": null,
   "metadata": {},
   "outputs": [],
   "source": [
    "TR = output_dict['TR']\n",
    "bd_preprocessing.plot_filtered_ts(data_3d_filtered[9], TR=TR)"
   ]
  },
  {
   "cell_type": "markdown",
   "metadata": {},
   "source": [
    "#### testing fcd"
   ]
  },
  {
   "cell_type": "code",
   "execution_count": null,
   "metadata": {},
   "outputs": [],
   "source": [
    "fc_est = fc_space.FCD_measures(option='fcd', return_fcd=True)"
   ]
  },
  {
   "cell_type": "code",
   "execution_count": null,
   "metadata": {},
   "outputs": [],
   "source": [
    "dt = data_3d[:3].copy()\n",
    "_, fcd = fc_est.fit_transform(dt)"
   ]
  },
  {
   "cell_type": "code",
   "execution_count": null,
   "metadata": {},
   "outputs": [],
   "source": [
    "imshow(fcd[0]); colorbar();"
   ]
  },
  {
   "cell_type": "markdown",
   "metadata": {},
   "source": [
    "### thresholded data, like chinese paper"
   ]
  },
  {
   "cell_type": "markdown",
   "metadata": {},
   "source": [
    "#### step 1: transform the data"
   ]
  },
  {
   "cell_type": "code",
   "execution_count": null,
   "metadata": {},
   "outputs": [],
   "source": [
    "h=30"
   ]
  },
  {
   "cell_type": "code",
   "execution_count": null,
   "metadata": {},
   "outputs": [],
   "source": [
    "fcd_ut.shape"
   ]
  },
  {
   "cell_type": "code",
   "execution_count": null,
   "metadata": {},
   "outputs": [],
   "source": [
    "imshow(data_3d[0].T)"
   ]
  },
  {
   "cell_type": "code",
   "execution_count": null,
   "metadata": {},
   "outputs": [],
   "source": [
    "est_thr = activity_space.Thresholding().fit(X = data_3d)\n",
    "data_thr = est_thr.transform(data_3d, threshold=h)\n",
    "counts, edges = np.histogram(data_thr.ravel(), bins=200)\n",
    "centers = (edges[1:]+ edges[:-1])/2\n",
    "bar(centers, counts, width=10)\n",
    "ylim(0,1e6)\n",
    "xlim(-100,100);"
   ]
  },
  {
   "cell_type": "markdown",
   "metadata": {},
   "source": [
    "#### step 2: cluster into recurrent objects (states)"
   ]
  },
  {
   "cell_type": "code",
   "execution_count": null,
   "metadata": {},
   "outputs": [],
   "source": [
    "n_states = 5\n",
    "part = getdata.split_test_retest(removed_transient=1)\n",
    "xtest = data_thr[:,:part]\n",
    "xretest = data_thr[:,-part:]"
   ]
  },
  {
   "cell_type": "code",
   "execution_count": null,
   "metadata": {},
   "outputs": [],
   "source": [
    "xtest.shape, xretest.shape"
   ]
  },
  {
   "cell_type": "code",
   "execution_count": null,
   "metadata": {},
   "outputs": [],
   "source": [
    "k = clustering.Cluster()\n",
    "kmeans = MiniBatchKMeans(n_clusters=n_states, n_init='auto', random_state=seed)\n",
    "xtest = xtest.reshape(-1, n_nodes)\n",
    "xretest = xretest.reshape(-1, n_nodes)\n",
    "k.fit(xtest, kmeans)\n",
    "X  = k.predict(xtest).reshape(n_participants,-1)\n",
    "y  = k.predict(xretest).reshape(n_participants,-1)\n"
   ]
  },
  {
   "cell_type": "markdown",
   "metadata": {},
   "source": [
    "#### step 3: reliability assessment"
   ]
  },
  {
   "cell_type": "code",
   "execution_count": null,
   "metadata": {},
   "outputs": [],
   "source": [
    "fp = fingerprinting.Fingerprinting()\n",
    "fp.fit(X, y)\n",
    "Xor, yor = fp.transform(X, y)"
   ]
  },
  {
   "cell_type": "code",
   "execution_count": null,
   "metadata": {},
   "outputs": [],
   "source": [
    "permst, obsst, pv = fp.score_intrasim_vs_intrasim(num_permutations=1000)"
   ]
  },
  {
   "cell_type": "code",
   "execution_count": null,
   "metadata": {},
   "outputs": [],
   "source": [
    "figure(figsize=(8,4))\n",
    "subplot(121)\n",
    "hist(fp.intersim, 20, label='Intersubject sim', alpha=0.5)\n",
    "hist(fp.intrasim, 20, label='Intrasubject sim', alpha=0.5)\n",
    "xlabel('cos-sim test-retest \\n occurence ratio'); ylabel('# subjects'); grid(1);\n",
    "title(f'for {n_states} states: inter={fp.intersim.mean():0.2f}; intra={fp.intrasim.mean():0.2f}')\n",
    "legend()\n",
    "subplot(122)\n",
    "hist(permst, bins=30, density=True, alpha=0.7, color='grey', label='Permuted Test Statistics')\n",
    "axvline(x=obsst, color='red', linestyle='--', label='Observed Test Statistic')\n",
    "annotate(rf'p-value={pv}',\n",
    "                   xy=(0.6, 0.5), xycoords='axes fraction', fontsize=11)\n",
    "xlabel('Test Statistic')\n",
    "ylabel('Density')\n",
    "title('Distribution of Permuted Test Statistics')\n",
    "legend()\n",
    "tight_layout()\n",
    "savefig(os.path.join(path_figures, 'fp_Thresh.png'), dpi=250, bbox_inches='tight')"
   ]
  },
  {
   "cell_type": "code",
   "execution_count": null,
   "metadata": {},
   "outputs": [],
   "source": [
    "vor_corcoefs = np.zeros((n_participants))\n",
    "for p in range(n_participants):\n",
    "    vor_corcoefs = vor_corcoefs.at[p].set(np.corrcoef(fp.X_[p,:], fp.y_[p,:])[0,1])\n",
    "x = np.arange(fp.n_states)\n",
    "width=0.2\n",
    "f, ax = plt.subplots(4,1,#4 subjects\n",
    "                     sharex='col', sharey='row', figsize=(4,6))\n",
    "for p in range(4): \n",
    "    ax[p].bar(x+width/2, fp.X_[p,:], width=width, label='test')\n",
    "    ax[p].bar(x-width/2, fp.y_[p,:], width=width, label='retest')\n",
    "    ax[p].set_xticks(x,x+1, rotation=45)\n",
    "    ax[p].annotate(rf'$r={vor_corcoefs[p].round(3):0.02f}$', xy=(0.5, 0.8), xycoords='axes fraction', fontsize=11)\n",
    "    ax[-1].set_xlabel('states')\n",
    "    ax[p].set_ylabel('occup rate')\n",
    "ax[0].legend()\n",
    "f.suptitle('for 4 participants: test-retest')\n",
    "plt.tight_layout();\n",
    "savefig(os.path.join(path_figures, 'fp_cor_Thresh.png'), dpi=250, bbox_inches='tight')"
   ]
  },
  {
   "cell_type": "markdown",
   "metadata": {},
   "source": [
    "#### step 4: predictive power"
   ]
  },
  {
   "cell_type": "code",
   "execution_count": null,
   "metadata": {},
   "outputs": [],
   "source": [
    "train_idx, test_idx = getdata.split_train_test()"
   ]
  },
  {
   "cell_type": "code",
   "execution_count": null,
   "metadata": {},
   "outputs": [],
   "source": [
    "xtrain = data_thr[train_idx].copy()\n",
    "xtest = data_thr[test_idx].copy()"
   ]
  },
  {
   "cell_type": "code",
   "execution_count": null,
   "metadata": {},
   "outputs": [],
   "source": [
    "k = clustering.Cluster()\n",
    "kmeans = MiniBatchKMeans(n_clusters=n_states, n_init='auto', random_state=seed)\n",
    "xtrain = xtrain.reshape(-1, n_nodes)\n",
    "xtest = xtest.reshape(-1, n_nodes)\n",
    "k.fit(xtrain, kmeans)\n",
    "trlab_grouped  = k.predict(xtrain).reshape(train_idx.size,-1)\n",
    "telab_grouped  = k.predict(xtest).reshape(test_idx.size,-1)"
   ]
  },
  {
   "cell_type": "code",
   "execution_count": null,
   "metadata": {},
   "outputs": [],
   "source": [
    "f = fingerprinting.Fingerprinting()\n",
    "f.fit(trlab_grouped, telab_grouped);\n",
    "tror, teor = f.transform(trlab_grouped, telab_grouped)\n",
    "ages = output_dict[\"ages\"]"
   ]
  },
  {
   "cell_type": "code",
   "execution_count": null,
   "metadata": {},
   "outputs": [],
   "source": [
    "bar(np.r_[0:n_states], tror.mean(0))\n",
    "xlabel('states')\n",
    "ylabel(r'$<P.O.>_{subjects}$')\n",
    "savefig(os.path.join(path_figures, 'PO_mean_Thresh.png'), dpi=250, bbox_inches='tight')"
   ]
  },
  {
   "cell_type": "code",
   "execution_count": null,
   "metadata": {},
   "outputs": [],
   "source": [
    "sns.violinplot(tror, cut=0, inner='box')\n",
    "xlabel('states')\n",
    "ylabel('Probability of Occurence')\n",
    "savefig(os.path.join(path_figures, 'PO_Thresh.png'), dpi=250, bbox_inches='tight')\n",
    "# savefig(os.path.join(path_figures, 'PO_Zudah.png'), dpi=250, bbox_inches='tight')"
   ]
  },
  {
   "cell_type": "code",
   "execution_count": null,
   "metadata": {},
   "outputs": [],
   "source": [
    "pp = predictive_power.Predict()\n",
    "y = ages[train_idx]\n",
    "pp.fit(tror, y)"
   ]
  },
  {
   "cell_type": "code",
   "execution_count": null,
   "metadata": {},
   "outputs": [],
   "source": [
    "predictors, r_values, p_values = pp.predict(teor, ages[test_idx])\n",
    "r_values, p_values"
   ]
  },
  {
   "cell_type": "code",
   "execution_count": null,
   "metadata": {},
   "outputs": [],
   "source": [
    "y = predictors#[-1,:]\n",
    "sns.regplot(x=y, y=ages[test_idx],\n",
    "            line_kws=dict(color=\"k\",zorder=0), ci=95, scatter_kws={\"alpha\": 0.3})\n",
    "slope,_,r_value,p_value,_ = scipy.stats.linregress(x=y, y=ages[test_idx])\n",
    "annotate(rf'$\\rho={r_value.round(3)}${utility.convert_pvalue_to_asterisks(p_value)} (p={p_value:0.02f})',\n",
    "         xy=(0.6, 0.8), xycoords='axes fraction', fontsize=11)\n",
    "ylabel('true age'), xlabel('predicted age')\n",
    "savefig(os.path.join(path_figures, 'pp_Thresh.png'), dpi=250, bbox_inches='tight')"
   ]
  },
  {
   "cell_type": "markdown",
   "metadata": {},
   "source": [
    "**Note:** which is  subject to the initialization of the kmeans"
   ]
  },
  {
   "cell_type": "markdown",
   "metadata": {},
   "source": [
    "### Zudah"
   ]
  },
  {
   "cell_type": "markdown",
   "metadata": {},
   "source": [
    "#### step 1: transform the data"
   ]
  },
  {
   "cell_type": "code",
   "execution_count": null,
   "metadata": {},
   "outputs": [],
   "source": [
    "est_zudah = fc_phases_space.Zudah().fit(X=data_3d_filtered)\n",
    "zudah = est_zudah.transform(data_3d_filtered)"
   ]
  },
  {
   "cell_type": "code",
   "execution_count": null,
   "metadata": {},
   "outputs": [],
   "source": [
    "imshow(zudah[0].T, aspect='auto')\n",
    "ylabel('ut(phases-FC)')\n",
    "xlabel('samples')\n",
    "tight_layout()\n",
    "savefig(os.path.join(path_figures, 'Zudah/PO_Zudah.png'), dpi=250, bbox_inches='tight')\n",
    "show()"
   ]
  },
  {
   "cell_type": "code",
   "execution_count": null,
   "metadata": {},
   "outputs": [],
   "source": [
    "c, e = np.histogram(zudah[:100].flatten(), 30)\n",
    "xt = (e[1:]+e[:-1])/2\n",
    "bar(xt, c)\n",
    "n_states = 5\n",
    "n_features = est_zudah.n_features"
   ]
  },
  {
   "cell_type": "code",
   "execution_count": null,
   "metadata": {},
   "outputs": [],
   "source": [
    "k = clustering.Cluster()\n",
    "kmeans = MiniBatchKMeans(n_clusters=n_states, n_init='auto',random_state=seed)\n",
    "data = zudah.reshape(-1, est_zudah.n_features)\n",
    "k.fit(data, kmeans)\n",
    "X  = k.predict(data).reshape(n_participants,-1)"
   ]
  },
  {
   "cell_type": "code",
   "execution_count": null,
   "metadata": {},
   "outputs": [],
   "source": [
    "data_or = jax.vmap(fingerprinting.labels2occup, in_axes=(0, None))(X, n_states)"
   ]
  },
  {
   "cell_type": "code",
   "execution_count": null,
   "metadata": {},
   "outputs": [],
   "source": [
    "sns.violinplot(data_or, cut=0, inner='box')\n",
    "xlabel('PMS states')\n",
    "ylabel('Probability of Occurence')\n",
    "yticks(np.r_[0:data_or.max().round(1):0.1])\n",
    "grid(axis='y')\n",
    "savefig(os.path.join(path_figures, 'PO_Zudah.png'), dpi=250, bbox_inches='tight')"
   ]
  },
  {
   "cell_type": "code",
   "execution_count": null,
   "metadata": {},
   "outputs": [],
   "source": [
    "bar(np.r_[0:n_states], data_or.mean(0))\n",
    "xlabel('PMS states')\n",
    "ylabel(r'$<P.O.>_{subjects}$')\n",
    "# savefig(os.path.join(path_figures, 'PO_mean_Zudah.png'), dpi=250, bbox_inches='tight')"
   ]
  },
  {
   "cell_type": "markdown",
   "metadata": {},
   "source": [
    "#### step 2: cluster into recurrent objects (states)"
   ]
  },
  {
   "cell_type": "code",
   "execution_count": null,
   "metadata": {},
   "outputs": [],
   "source": [
    "n_states = 5\n",
    "xtest = zudah[:,:part].copy()\n",
    "xretest = zudah[:,-part:].copy()"
   ]
  },
  {
   "cell_type": "code",
   "execution_count": null,
   "metadata": {},
   "outputs": [],
   "source": [
    "xretest.shape"
   ]
  },
  {
   "cell_type": "code",
   "execution_count": null,
   "metadata": {},
   "outputs": [],
   "source": [
    "k = clustering.Cluster()\n",
    "kmeans = MiniBatchKMeans(n_clusters=n_states, n_init='auto',random_state=seed)\n",
    "xtest = xtest.reshape(-1, est_zudah.n_features)\n",
    "xretest = xretest.reshape(-1, est_zudah.n_features)\n",
    "k.fit(xtest, kmeans)\n",
    "X  = k.predict(xtest).reshape(n_participants,-1)\n",
    "y  = k.predict(xretest).reshape(n_participants,-1)\n"
   ]
  },
  {
   "cell_type": "markdown",
   "metadata": {},
   "source": [
    "#### step 3: reliability assessment"
   ]
  },
  {
   "cell_type": "code",
   "execution_count": null,
   "metadata": {},
   "outputs": [],
   "source": [
    "fp = fingerprinting.Fingerprinting()\n",
    "fp.fit(X, y)\n",
    "Xor, yor = fp.transform(X, y)"
   ]
  },
  {
   "cell_type": "code",
   "execution_count": null,
   "metadata": {},
   "outputs": [],
   "source": [
    "Xor.shape"
   ]
  },
  {
   "cell_type": "code",
   "execution_count": null,
   "metadata": {},
   "outputs": [],
   "source": [
    "permst, obsst, pv = fp.score_intrasim_vs_intrasim(num_permutations=1000)"
   ]
  },
  {
   "cell_type": "code",
   "execution_count": null,
   "metadata": {},
   "outputs": [],
   "source": [
    "figure(figsize=(8,4))\n",
    "subplot(121)\n",
    "hist(fp.intersim, 20, label='Intersubject sim', alpha=0.5)\n",
    "hist(fp.intrasim, 20, label='Intrasubject sim', alpha=0.5)\n",
    "xlabel('cos-sim test-retest \\n occurence ratio'); ylabel('# subjects'); grid(1);\n",
    "title(f'for {n_states} states: inter={fp.intersim.mean():0.2f}; intra={fp.intrasim.mean():0.2f}')\n",
    "legend()\n",
    "subplot(122)\n",
    "hist(permst, bins=30, density=True, alpha=0.7, color='grey', label='Permuted Test Statistics')\n",
    "axvline(x=obsst, color='red', linestyle='--', label='Observed Test Statistic')\n",
    "annotate(rf'p-value={pv}',\n",
    "                   xy=(0.6, 0.5), xycoords='axes fraction', fontsize=11)\n",
    "xlabel('Test Statistic')\n",
    "ylabel('Density')\n",
    "title('Distribution of Permuted Test Statistics')\n",
    "legend()\n",
    "tight_layout()\n",
    "savefig(os.path.join(path_figures, 'fp_Zudah.png'), dpi=250, bbox_inches='tight')"
   ]
  },
  {
   "cell_type": "code",
   "execution_count": null,
   "metadata": {},
   "outputs": [],
   "source": [
    "vor_corcoefs = np.zeros((n_participants))\n",
    "for p in range(n_participants):\n",
    "    vor_corcoefs = vor_corcoefs.at[p].set(np.corrcoef(fp.X_[p,:], fp.y_[p,:])[0,1])\n",
    "x = np.arange(fp.n_states)\n",
    "width=0.2\n",
    "f, ax = plt.subplots(4,1,#4 subjects\n",
    "                     sharex='col', sharey='row', figsize=(4,6))\n",
    "for p in range(4): \n",
    "    ax[p].bar(x+width/2, fp.X_[p,:], width=width, label='test')\n",
    "    ax[p].bar(x-width/2, fp.y_[p,:], width=width, label='retest')\n",
    "    ax[p].set_xticks(x,x+1, rotation=45)\n",
    "    ymaxtick = np.hstack((fp.y_[p,:], fp.X_[p,:])).max()\n",
    "    ax[p].set_yticks(np.r_[0:ymaxtick.round(1):0.1])\n",
    "    ax[p].annotate(rf'$r={vor_corcoefs[p].round(3):0.02f}$', xy=(0.5, 0.8), xycoords='axes fraction', fontsize=11)\n",
    "    ax[-1].set_xlabel('states')\n",
    "    ax[p].set_ylabel('occup rate')\n",
    "    ax[p].grid(axis='y')\n",
    "ax[0].legend()\n",
    "f.suptitle('for 4 participants: test-retest')\n",
    "tight_layout();\n",
    "# savefig(os.path.join(path_figures, 'fp_cor_Zudah.png'), dpi=250, bbox_inches='tight')"
   ]
  },
  {
   "cell_type": "markdown",
   "metadata": {},
   "source": [
    "#### step 4: predictive power"
   ]
  },
  {
   "cell_type": "code",
   "execution_count": null,
   "metadata": {},
   "outputs": [],
   "source": [
    "xtrain = zudah[train_idx].copy()\n",
    "xtest = zudah[test_idx].copy()"
   ]
  },
  {
   "cell_type": "code",
   "execution_count": null,
   "metadata": {},
   "outputs": [],
   "source": [
    "k = clustering.Cluster()\n",
    "kmeans = MiniBatchKMeans(n_clusters=n_states, n_init='auto', random_state=42)\n",
    "xtrain = xtrain.reshape(-1, n_features)\n",
    "xtest = xtest.reshape(-1, n_features)\n",
    "k.fit(xtrain, kmeans)\n",
    "trlab_grouped  = k.predict(xtrain).reshape(train_idx.size,-1)\n",
    "telab_grouped  = k.predict(xtest).reshape(test_idx.size,-1)"
   ]
  },
  {
   "cell_type": "code",
   "execution_count": null,
   "metadata": {},
   "outputs": [],
   "source": [
    "f = fingerprinting.Fingerprinting()\n",
    "f.fit(trlab_grouped, telab_grouped);\n",
    "tror, teor = f.transform(trlab_grouped, telab_grouped)\n",
    "ages = output_dict[\"ages\"]"
   ]
  },
  {
   "cell_type": "code",
   "execution_count": null,
   "metadata": {},
   "outputs": [],
   "source": [
    "pp = predictive_power.Predict()\n",
    "y = ages[train_idx]\n",
    "pp.fit(tror, y)\n",
    "predictors, r_values, p_values = pp.predict(teor, ages[test_idx])\n",
    "r_values, p_values"
   ]
  },
  {
   "cell_type": "code",
   "execution_count": null,
   "metadata": {},
   "outputs": [],
   "source": [
    "y = predictors#[-1,:]\n",
    "sns.regplot(x=y, y=ages[test_idx],\n",
    "            line_kws=dict(color=\"k\",zorder=0), ci=95, scatter_kws={\"alpha\": 0.3})\n",
    "slope,_,r_value,p_value,_ = scipy.stats.linregress(x=y, y=ages[test_idx])\n",
    "annotate(rf'$\\rho={r_value.round(3)}${utility.convert_pvalue_to_asterisks(p_value)} (p={p_value:0.03f})',\n",
    "         xy=(0.6, 0.8), xycoords='axes fraction', fontsize=11)\n",
    "ylabel('true age'), xlabel('predicted age')\n",
    "# savefig(os.path.join(path_figures, 'pp_Zudah.png'), dpi=250, bbox_inches='tight')"
   ]
  },
  {
   "cell_type": "code",
   "execution_count": null,
   "metadata": {},
   "outputs": [],
   "source": [
    "b =  ages[train_idx]\n",
    "figure(figsize=(7,4))\n",
    "for i in range(n_states):\n",
    "    y = tror[:,i]\n",
    "    subplot(2,3,i+2)\n",
    "    sns.regplot(x=b, y=y,\n",
    "                line_kws=dict(color=\"k\",zorder=0), ci=95, scatter_kws={\"alpha\": 0.3})\n",
    "    slope,_,r_value,p_value,_ = scipy.stats.linregress(x=b, y=y)\n",
    "    annotate(rf'$\\rho={r_value.round(3)}${utility.convert_pvalue_to_asterisks(p_value)}',\n",
    "            xy=(0.3, 0.8), xycoords='axes fraction', fontsize=11)\n",
    "    ylabel(f'$PO_{{state={i}}}$')\n",
    "    if i>1:\n",
    "        xlabel('age')\n",
    "tight_layout()\n",
    "# savefig(os.path.join(path_figures, 'pp_perstate_Zudah.png'), dpi=250, bbox_inches='tight')"
   ]
  },
  {
   "cell_type": "code",
   "execution_count": null,
   "metadata": {},
   "outputs": [],
   "source": []
  }
 ],
 "metadata": {
  "kernelspec": {
   "display_name": "venv",
   "language": "python",
   "name": "python3"
  },
  "language_info": {
   "codemirror_mode": {
    "name": "ipython",
    "version": 3
   },
   "file_extension": ".py",
   "mimetype": "text/x-python",
   "name": "python",
   "nbconvert_exporter": "python",
   "pygments_lexer": "ipython3",
   "version": "3.10.12"
  }
 },
 "nbformat": 4,
 "nbformat_minor": 2
}
